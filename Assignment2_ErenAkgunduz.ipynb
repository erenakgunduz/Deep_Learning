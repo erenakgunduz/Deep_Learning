{
  "nbformat": 4,
  "nbformat_minor": 0,
  "metadata": {
    "colab": {
      "provenance": []
    },
    "kernelspec": {
      "name": "python3",
      "display_name": "Python 3"
    },
    "language_info": {
      "name": "python"
    }
  },
  "cells": [
    {
      "cell_type": "markdown",
      "source": [
        "# Assignment 2\n",
        "\n",
        "## Eren Akgunduz\n",
        "\n",
        "### Deep Learning &mdash; 28 January 2024\n",
        "\n",
        "### [Link to notebook](https://colab.research.google.com/drive/1WSR-ZzGn8t9xXx96rDx-W5Qv1iGPIKA3)\n"
      ],
      "metadata": {
        "id": "nnXkL7MkXNUI"
      }
    },
    {
      "cell_type": "code",
      "execution_count": null,
      "metadata": {
        "id": "arK5xTx0FZv7"
      },
      "outputs": [],
      "source": [
        "import matplotlib.pyplot as plt"
      ]
    },
    {
      "cell_type": "code",
      "source": [
        "data = [(0, 0), (0, 1), (1, 0), (1, 1)]"
      ],
      "metadata": {
        "id": "zomJc37xF8rv"
      },
      "execution_count": null,
      "outputs": []
    },
    {
      "cell_type": "code",
      "source": [
        "[plt.plot(point, 'm.') for point in data]\n",
        "\n",
        "plt.xlabel(\"x axis\")\n",
        "plt.ylabel(\"y axis\")\n",
        "plt.title(\"Input data samples\")\n",
        "\n",
        "plt.show()"
      ],
      "metadata": {
        "colab": {
          "base_uri": "https://localhost:8080/",
          "height": 472
        },
        "id": "CbjH8heGHVN0",
        "outputId": "0c0620d2-1e2e-4df5-a39e-7145a657f84a"
      },
      "execution_count": null,
      "outputs": [
        {
          "output_type": "display_data",
          "data": {
            "text/plain": [
              "<Figure size 640x480 with 1 Axes>"
            ],
            "image/png": "[encoded data removed]"
          },
          "metadata": {}
        }
      ]
    },
    {
      "cell_type": "code",
      "source": [
        "def logical_and(arg1, arg2) -> bool:\n",
        "    if arg1:\n",
        "        if arg2:\n",
        "            return True\n",
        "    return False"
      ],
      "metadata": {
        "id": "NcAYWWyvJKIi"
      },
      "execution_count": null,
      "outputs": []
    },
    {
      "cell_type": "code",
      "source": [
        "def logical_or(arg1, arg2) -> bool:\n",
        "    if arg1:\n",
        "        return True\n",
        "    if arg2:\n",
        "        return True\n",
        "    return False"
      ],
      "metadata": {
        "id": "XMYRxCiFOLjA"
      },
      "execution_count": null,
      "outputs": []
    },
    {
      "cell_type": "code",
      "source": [
        "def logical_xor(arg1, arg2) -> bool:\n",
        "    if arg1:\n",
        "        return True if not arg2 else False\n",
        "    if arg2:\n",
        "        return True if not arg1 else False\n",
        "    return False"
      ],
      "metadata": {
        "id": "Sdv6F6zmOeDt"
      },
      "execution_count": null,
      "outputs": []
    },
    {
      "cell_type": "code",
      "source": [
        "and_list = [logical_and(sample[0], sample[1]) for sample in data]\n",
        "or_list = [logical_or(sample[0], sample[1]) for sample in data]\n",
        "xor_list = [logical_xor(sample[0], sample[1]) for sample in data]"
      ],
      "metadata": {
        "id": "LXnjyzV3Que_"
      },
      "execution_count": null,
      "outputs": []
    },
    {
      "cell_type": "code",
      "source": [
        "test_and_list = [sample[0] and sample[1] for sample in data]\n",
        "test_or_list = [sample[0] or sample[1] for sample in data]\n",
        "test_xor_list = [sample[0] ^ sample[1] for sample in data]"
      ],
      "metadata": {
        "id": "5liveOq7ThXJ"
      },
      "execution_count": null,
      "outputs": []
    },
    {
      "cell_type": "code",
      "source": [
        "[and_list == test_and_list, or_list == test_or_list, xor_list == test_xor_list]  # just to see if we're good to go"
      ],
      "metadata": {
        "colab": {
          "base_uri": "https://localhost:8080/"
        },
        "id": "KjDpVanWURAI",
        "outputId": "d13fc608-3dd1-4833-b36e-0f198f6a6904"
      },
      "execution_count": null,
      "outputs": [
        {
          "output_type": "execute_result",
          "data": {
            "text/plain": [
              "[True, True, True]"
            ]
          },
          "metadata": {},
          "execution_count": 9
        }
      ]
    },
    {
      "cell_type": "code",
      "source": [
        "and_list"
      ],
      "metadata": {
        "colab": {
          "base_uri": "https://localhost:8080/"
        },
        "id": "hOB3C1-6TPGp",
        "outputId": "40ed51fd-7d0a-4588-bc2c-d3f08d770840"
      },
      "execution_count": null,
      "outputs": [
        {
          "output_type": "execute_result",
          "data": {
            "text/plain": [
              "[False, False, False, True]"
            ]
          },
          "metadata": {},
          "execution_count": 10
        }
      ]
    },
    {
      "cell_type": "code",
      "source": [
        "or_list"
      ],
      "metadata": {
        "colab": {
          "base_uri": "https://localhost:8080/"
        },
        "id": "FteSReItTQDY",
        "outputId": "659716ca-3b7c-406d-c65e-66634a1e361e"
      },
      "execution_count": null,
      "outputs": [
        {
          "output_type": "execute_result",
          "data": {
            "text/plain": [
              "[False, True, True, True]"
            ]
          },
          "metadata": {},
          "execution_count": 11
        }
      ]
    },
    {
      "cell_type": "code",
      "source": [
        "xor_list"
      ],
      "metadata": {
        "colab": {
          "base_uri": "https://localhost:8080/"
        },
        "id": "XOSF8JY4TSac",
        "outputId": "4f7e92f9-9f0d-4159-8713-4b20e0caa2b0"
      },
      "execution_count": null,
      "outputs": [
        {
          "output_type": "execute_result",
          "data": {
            "text/plain": [
              "[False, True, True, False]"
            ]
          },
          "metadata": {},
          "execution_count": 12
        }
      ]
    }
  ]
}