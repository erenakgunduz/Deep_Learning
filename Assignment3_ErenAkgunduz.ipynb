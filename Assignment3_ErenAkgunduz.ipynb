{
  "nbformat": 4,
  "nbformat_minor": 0,
  "metadata": {
    "colab": {
      "provenance": []
    },
    "kernelspec": {
      "name": "python3",
      "display_name": "Python 3"
    },
    "language_info": {
      "name": "python"
    }
  },
  "cells": [
    {
      "cell_type": "markdown",
      "source": [
        "# Assignment 3\n",
        "\n",
        "## Eren Akgunduz\n",
        "\n",
        "### Deep Learning &mdash; 4 February 2024\n",
        "\n",
        "### [Link to notebook](https://colab.research.google.com/drive/16-Kz0ukoeyQB4OQaBkWjyLlgaUc_3bA7)"
      ],
      "metadata": {
        "id": "8ys49B8H9ToU"
      }
    },
    {
      "cell_type": "code",
      "execution_count": null,
      "metadata": {
        "id": "YLG4NmUn9SX-"
      },
      "outputs": [],
      "source": [
        "import numpy as np\n",
        "import matplotlib.pyplot as plt"
      ]
    },
    {
      "cell_type": "code",
      "source": [
        "c1 = np.array([[2, 3], [3, 3], [3, 4], [1, 4], [4, 1], [4, 3]], dtype=int)\n",
        "c2 = np.array([[0, 0], [0, 3], [1, 1], [1, 2], [2, 1], [2, 2]], dtype=int)"
      ],
      "metadata": {
        "id": "lAbgBLHe_GJQ"
      },
      "execution_count": null,
      "outputs": []
    },
    {
      "cell_type": "code",
      "source": [
        "plt.plot(c1[:, 0], c1[:, 1], 'bo', label=\"Class 1\")\n",
        "plt.plot(c2[:, 0], c2[:, 1], 'r*', label=\"Class 2\")\n",
        "\n",
        "plt.axis([-1, 5, -1, 5])\n",
        "plt.xlabel(\"x (feature 1)\")\n",
        "plt.ylabel(\"y (feature 2)\")\n",
        "\n",
        "plt.show()"
      ],
      "metadata": {
        "colab": {
          "base_uri": "https://localhost:8080/",
          "height": 455
        },
        "id": "LPcDAlTADm59",
        "outputId": "8c5770bf-b70b-4515-e507-19577739a73b"
      },
      "execution_count": null,
      "outputs": [
        {
          "output_type": "display_data",
          "data": {
            "text/plain": [
              "<Figure size 640x480 with 1 Axes>"
            ],
            "image/png": "[encoded data removed]"
          },
          "metadata": {}
        }
      ]
    },
    {
      "cell_type": "code",
      "source": [
        "def enter_threshold() -> tuple:\n",
        "    print(\"Enter the threshold values, TH_x and TH_y\")\n",
        "    try:\n",
        "        th_x = float(input(\"Enter the TH_x value: \"))\n",
        "        th_y = float(input(\"Enter the TH_y value: \"))\n",
        "        return th_x, th_y\n",
        "    except ValueError:\n",
        "        return \"You must enter a valid number :)\", \"Try again\""
      ],
      "metadata": {
        "id": "-G4Qo2AkE_6b"
      },
      "execution_count": 126,
      "outputs": []
    },
    {
      "cell_type": "code",
      "source": [
        "def threshold_classifier(vals) -> tuple:\n",
        "    print(vals)\n",
        "    points = np.vstack((c1, c2))\n",
        "    new_c1 = []\n",
        "    new_c2 = []\n",
        "    for point in points:\n",
        "        if point[0] >= vals[0] and point[1] >= vals[1]:\n",
        "            new_c1.append(point)\n",
        "        else:\n",
        "            new_c2.append(point)\n",
        "    return np.array(new_c1, dtype=int), np.array(new_c2, dtype=int)"
      ],
      "metadata": {
        "id": "ZczVeLW0HWeH"
      },
      "execution_count": 127,
      "outputs": []
    },
    {
      "cell_type": "code",
      "source": [
        "def classifier_accuracy(new_classes) -> tuple:  # not working as expected yet\n",
        "    correct_c1 = 0\n",
        "    correct_c2 = 0\n",
        "    for classified_c1 in new_classes[0]:\n",
        "        if classified_c1 in c1:\n",
        "            correct_c1 += 1\n",
        "    for classified_c2 in new_classes[1]:\n",
        "        print(classified_c2)\n",
        "        if classified_c2 in c2:\n",
        "            correct_c2 += 1\n",
        "    return (correct_c1, correct_c2)"
      ],
      "metadata": {
        "id": "hYS_YQ92HYuk"
      },
      "execution_count": 157,
      "outputs": []
    },
    {
      "cell_type": "code",
      "source": [
        "def thr_plots():\n",
        "    pass"
      ],
      "metadata": {
        "id": "cOT10hTAHjil"
      },
      "execution_count": 158,
      "outputs": []
    },
    {
      "cell_type": "code",
      "source": [
        "def main():\n",
        "    vals = enter_threshold()\n",
        "    if isinstance(vals[0], str):\n",
        "        print(vals[0], vals[1])\n",
        "        vals = enter_threshold()\n",
        "\n",
        "    if not isinstance(vals[0], str):\n",
        "        new_classes = threshold_classifier(vals)\n",
        "        accuracies = classifier_accuracy(new_classes)\n",
        "        print(new_classes)\n",
        "        print(accuracies)\n",
        "    else:\n",
        "        raise TypeError(\"Valid number was not entered\")"
      ],
      "metadata": {
        "id": "zdRC01G4HtqK"
      },
      "execution_count": 159,
      "outputs": []
    },
    {
      "cell_type": "code",
      "source": [
        "main()"
      ],
      "metadata": {
        "colab": {
          "base_uri": "https://localhost:8080/"
        },
        "id": "mSg3tKAsSwoZ",
        "outputId": "1f3f65a1-0835-4efd-9149-f1f4940324be"
      },
      "execution_count": 160,
      "outputs": [
        {
          "output_type": "stream",
          "name": "stdout",
          "text": [
            "Enter the threshold values, TH_x and TH_y\n",
            "Enter the TH_x value: 2\n",
            "Enter the TH_y value: 3\n",
            "(2.0, 3.0)\n",
            "[1 4]\n",
            "[4 1]\n",
            "[0 0]\n",
            "[0 3]\n",
            "[1 1]\n",
            "[1 2]\n",
            "[2 1]\n",
            "[2 2]\n",
            "(array([[2, 3],\n",
            "       [3, 3],\n",
            "       [3, 4],\n",
            "       [4, 3]]), array([[1, 4],\n",
            "       [4, 1],\n",
            "       [0, 0],\n",
            "       [0, 3],\n",
            "       [1, 1],\n",
            "       [1, 2],\n",
            "       [2, 1],\n",
            "       [2, 2]]))\n",
            "(4, 8)\n"
          ]
        }
      ]
    }
  ]
}