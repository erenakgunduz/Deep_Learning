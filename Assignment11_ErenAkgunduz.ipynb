{
  "nbformat": 4,
  "nbformat_minor": 0,
  "metadata": {
    "colab": {
      "provenance": [],
      "gpuType": "T4"
    },
    "kernelspec": {
      "name": "python3",
      "display_name": "Python 3"
    },
    "language_info": {
      "name": "python"
    },
    "accelerator": "GPU"
  },
  "cells": [
    {
      "cell_type": "markdown",
      "source": [
        "# Assignment 11\n",
        "\n",
        "## Eren Akgunduz\n",
        "\n",
        "### Deep Learning &mdash; 20 April 2024\n",
        "\n",
        "### [Link to notebook](https://colab.research.google.com/drive/1dJV0F8oki2rWWcpvoXJBUiVxyBBCEeha)\n"
      ],
      "metadata": {
        "id": "UX6UY8MfUkNV"
      }
    },
    {
      "cell_type": "code",
      "source": [
        "import numpy as np\n",
        "import matplotlib.pyplot as plt\n",
        "import pandas as pd\n",
        "import tensorflow as tf\n",
        "from keras.callbacks import ModelCheckpoint\n",
        "from keras.datasets import cifar10\n",
        "from keras.models import Sequential, load_model\n",
        "from keras.regularizers import l2\n",
        "from keras.layers import Dense, Conv2D, Flatten, Dropout, Activation, MaxPooling2D\n",
        "from keras.utils import to_categorical\n",
        "from sklearn.metrics import accuracy_score, confusion_matrix, recall_score"
      ],
      "metadata": {
        "id": "QXJQpmIdUlrA"
      },
      "execution_count": 1,
      "outputs": []
    },
    {
      "cell_type": "markdown",
      "source": [
        "### Helper functions"
      ],
      "metadata": {
        "id": "T7FierIrbTq8"
      }
    },
    {
      "cell_type": "code",
      "source": [
        "def img_plt(images, labels):\n",
        "    plt.figure()\n",
        "    for i in range(1, 11):\n",
        "        plt.subplot(2, 5, i)\n",
        "        plt.imshow(images[i-1,:,:])\n",
        "        plt.title(f\"Label: {str(labels[i-1])}\")\n",
        "    plt.show()"
      ],
      "metadata": {
        "id": "KNeReCRufhNV"
      },
      "execution_count": 2,
      "outputs": []
    },
    {
      "cell_type": "code",
      "source": [
        "def feat_plot(features, labels, classes):\n",
        "    for class_i in classes:\n",
        "        plt.plot(features[labels[:]==classes[class_i],0], features[labels[:]==classes[class_i],1], 'o', markersize=15)\n",
        "\n",
        "    plt.xlabel('x: feature 1')\n",
        "    plt.ylabel('y: feature 2')\n",
        "    plt.legend(['Class' + str(classes[class_i]) for class_i in classes])\n",
        "    plt.show()"
      ],
      "metadata": {
        "id": "tBtZv31fggiT"
      },
      "execution_count": 3,
      "outputs": []
    },
    {
      "cell_type": "code",
      "source": [
        "def acc_fun(labels_actual, labels_pred):\n",
        "    acc = np.sum(labels_actual==labels_pred)/len(labels_actual) * 100\n",
        "    return acc"
      ],
      "metadata": {
        "id": "Kv9JGqJVhkRG"
      },
      "execution_count": 4,
      "outputs": []
    },
    {
      "cell_type": "code",
      "source": [
        "def plot_curve(accuracy_train, loss_train, accuracy_val, loss_val):\n",
        "    epochs = np.arange(loss_train.shape[0])\n",
        "    plt.subplot(1,2,1)\n",
        "    plt.plot(epochs, accuracy_train, epochs, accuracy_val)\n",
        "    plt.xlabel('Epoch #')\n",
        "    plt.ylabel('Accuracy')\n",
        "    plt.title('Accuracy')\n",
        "    plt.legend(['Training', 'Validation'])\n",
        "\n",
        "    plt.subplot (1,2,2)\n",
        "    plt.plot(epochs, loss_train, epochs, loss_val)\n",
        "    plt.xlabel('Epoch #')\n",
        "    plt.ylabel('Binary crossentropy loss')\n",
        "    plt.title('Loss')\n",
        "    plt.legend(['Training', 'Validation'])\n",
        "    plt.show()"
      ],
      "metadata": {
        "id": "cY0SEILSkq_3"
      },
      "execution_count": 5,
      "outputs": []
    },
    {
      "cell_type": "markdown",
      "source": [
        "### Dataset"
      ],
      "metadata": {
        "id": "GtocmSuWdzST"
      }
    },
    {
      "cell_type": "code",
      "source": [
        "(x_train, y_train), (x_test, y_test) = cifar10.load_data()"
      ],
      "metadata": {
        "id": "EuBbLXd6dxsy"
      },
      "execution_count": 6,
      "outputs": []
    },
    {
      "cell_type": "code",
      "source": [
        "classes = np.arange(10)\n",
        "print(x_train.shape)"
      ],
      "metadata": {
        "colab": {
          "base_uri": "https://localhost:8080/"
        },
        "id": "uxoSKGO1euKQ",
        "outputId": "502fc57a-2b2d-4650-fb0d-39119554dd4a"
      },
      "execution_count": 7,
      "outputs": [
        {
          "output_type": "stream",
          "name": "stdout",
          "text": [
            "(50000, 32, 32, 3)\n"
          ]
        }
      ]
    },
    {
      "cell_type": "code",
      "source": [
        "# Selecting 20% of training data as the validation set\n",
        "num_train_img=x_train.shape[0]\n",
        "train_ind=np.arange(0,num_train_img)\n",
        "train_ind_s=np.random.permutation(train_ind)\n",
        "x_train=x_train[train_ind_s,:,:,:]\n",
        "y_train=y_train[train_ind_s]\n",
        "# Selecting 20% of training images for validation\n",
        "x_val=x_train[0:int(0.2*num_train_img),:,:,:]\n",
        "y_val=y_train[0:int(0.2*num_train_img)]\n",
        "# The rest of the training set\n",
        "x_train=x_train[int(0.2*num_train_img):,:,:]\n",
        "y_train=y_train[int(0.2*num_train_img):]"
      ],
      "metadata": {
        "id": "GxD9tqCZiUo1"
      },
      "execution_count": 8,
      "outputs": []
    },
    {
      "cell_type": "markdown",
      "source": [
        "### Preprocessing"
      ],
      "metadata": {
        "id": "ynE0S5MhiSVU"
      }
    },
    {
      "cell_type": "code",
      "source": [
        "# Scaling the images\n",
        "x_train=x_train.astype('float32')\n",
        "x_val=x_val.astype('float32')\n",
        "x_test=x_test.astype('float32')\n",
        "x_train /= 255\n",
        "x_val /= 255\n",
        "x_test /= 255\n",
        "\n",
        "# convert class vectors to binary class matrices\n",
        "y_train_c = to_categorical(y_train, len(classes))\n",
        "y_val_c = to_categorical(y_val, len(classes))\n",
        "y_test_c = to_categorical(y_test, len(classes))"
      ],
      "metadata": {
        "id": "XiCRQHXxitXJ"
      },
      "execution_count": 9,
      "outputs": []
    },
    {
      "cell_type": "markdown",
      "source": [
        "### Model"
      ],
      "metadata": {
        "id": "bsxEwK54l4mp"
      }
    },
    {
      "cell_type": "code",
      "source": [
        "model_a = Sequential()\n",
        "model_a.add(Conv2D(32, (3, 3), padding='same', input_shape=x_train.shape[1:]))\n",
        "model_a.add(Activation('relu'))\n",
        "model_a.add(Conv2D(32, (3, 3), padding='same'))\n",
        "model_a.add(Activation('relu'))\n",
        "model_a.add(MaxPooling2D(pool_size=(2, 2)))\n",
        "\n",
        "model_a.add(Conv2D(64, (3, 3), padding='same'))\n",
        "model_a.add(Activation('relu'))\n",
        "model_a.add(Conv2D(64, (3, 3), padding='same'))\n",
        "model_a.add(Activation('relu'))\n",
        "model_a.add(MaxPooling2D(pool_size=(2, 2)))\n",
        "\n",
        "model_a.add(Flatten())\n",
        "model_a.add(Dense(units=512, activation='relu'))\n",
        "model_a.add(Dropout(0.5))\n",
        "model_a.add(Dense(units=len(classes), activation='softmax'))\n",
        "model_a.summary()"
      ],
      "metadata": {
        "colab": {
          "base_uri": "https://localhost:8080/"
        },
        "id": "xa21yPiOl5nV",
        "outputId": "c2291f08-5560-4223-e4e1-df57deac40e8"
      },
      "execution_count": 10,
      "outputs": [
        {
          "output_type": "stream",
          "name": "stdout",
          "text": [
            "Model: \"sequential\"\n",
            "_________________________________________________________________\n",
            " Layer (type)                Output Shape              Param #   \n",
            "=================================================================\n",
            " conv2d (Conv2D)             (None, 32, 32, 32)        896       \n",
            "                                                                 \n",
            " activation (Activation)     (None, 32, 32, 32)        0         \n",
            "                                                                 \n",
            " conv2d_1 (Conv2D)           (None, 32, 32, 32)        9248      \n",
            "                                                                 \n",
            " activation_1 (Activation)   (None, 32, 32, 32)        0         \n",
            "                                                                 \n",
            " max_pooling2d (MaxPooling2  (None, 16, 16, 32)        0         \n",
            " D)                                                              \n",
            "                                                                 \n",
            " conv2d_2 (Conv2D)           (None, 16, 16, 64)        18496     \n",
            "                                                                 \n",
            " activation_2 (Activation)   (None, 16, 16, 64)        0         \n",
            "                                                                 \n",
            " conv2d_3 (Conv2D)           (None, 16, 16, 64)        36928     \n",
            "                                                                 \n",
            " activation_3 (Activation)   (None, 16, 16, 64)        0         \n",
            "                                                                 \n",
            " max_pooling2d_1 (MaxPoolin  (None, 8, 8, 64)          0         \n",
            " g2D)                                                            \n",
            "                                                                 \n",
            " flatten (Flatten)           (None, 4096)              0         \n",
            "                                                                 \n",
            " dense (Dense)               (None, 512)               2097664   \n",
            "                                                                 \n",
            " dropout (Dropout)           (None, 512)               0         \n",
            "                                                                 \n",
            " dense_1 (Dense)             (None, 10)                5130      \n",
            "                                                                 \n",
            "=================================================================\n",
            "Total params: 2168362 (8.27 MB)\n",
            "Trainable params: 2168362 (8.27 MB)\n",
            "Non-trainable params: 0 (0.00 Byte)\n",
            "_________________________________________________________________\n"
          ]
        }
      ]
    },
    {
      "cell_type": "code",
      "source": [
        "opt = tf.keras.optimizers.Adam(learning_rate=0.001)\n",
        "model_a.compile(optimizer=opt,\n",
        "              loss=\"categorical_crossentropy\",\n",
        "              metrics=[\"accuracy\"])"
      ],
      "metadata": {
        "id": "UvuyW7lcrNlJ"
      },
      "execution_count": 11,
      "outputs": []
    },
    {
      "cell_type": "code",
      "source": [
        "# Creating a checkpoint to save the best model based on the lowest validation loss.\n",
        "save_path='/content/drive/My Drive/model_a_cifar10.h5'\n",
        "callbacks_save=ModelCheckpoint(save_path, monitor='val_loss', verbose=0, save_best_only=True, period=1)\n",
        "\n",
        "history=model_a.fit(x_train, y_train_c,\n",
        "                    batch_size=32,\n",
        "                    epochs=50,\n",
        "                    verbose=1,\n",
        "                    validation_data=(x_val, y_val_c),\n",
        "                    callbacks=[callbacks_save])"
      ],
      "metadata": {
        "colab": {
          "base_uri": "https://localhost:8080/"
        },
        "id": "OibQLtSjudEJ",
        "outputId": "f215494e-82de-472a-ecc8-2e673ecd1f60"
      },
      "execution_count": 12,
      "outputs": [
        {
          "output_type": "stream",
          "name": "stderr",
          "text": [
            "WARNING:tensorflow:`period` argument is deprecated. Please use `save_freq` to specify the frequency in number of batches seen.\n"
          ]
        },
        {
          "output_type": "stream",
          "name": "stdout",
          "text": [
            "Epoch 1/50\n",
            "1250/1250 [==============================] - 23s 10ms/step - loss: 1.4961 - accuracy: 0.4559 - val_loss: 1.0912 - val_accuracy: 0.6080\n",
            "Epoch 2/50\n",
            "  12/1250 [..............................] - ETA: 6s - loss: 1.1437 - accuracy: 0.6016 "
          ]
        },
        {
          "output_type": "stream",
          "name": "stderr",
          "text": [
            "/usr/local/lib/python3.10/dist-packages/keras/src/engine/training.py:3103: UserWarning: You are saving your model as an HDF5 file via `model.save()`. This file format is considered legacy. We recommend using instead the native Keras format, e.g. `model.save('my_model.keras')`.\n",
            "  saving_api.save_model(\n"
          ]
        },
        {
          "output_type": "stream",
          "name": "stdout",
          "text": [
            "1250/1250 [==============================] - 8s 6ms/step - loss: 1.0301 - accuracy: 0.6339 - val_loss: 0.9334 - val_accuracy: 0.6714\n",
            "Epoch 3/50\n",
            "1250/1250 [==============================] - 8s 7ms/step - loss: 0.8358 - accuracy: 0.7078 - val_loss: 0.7672 - val_accuracy: 0.7328\n",
            "Epoch 4/50\n",
            "1250/1250 [==============================] - 8s 7ms/step - loss: 0.7037 - accuracy: 0.7551 - val_loss: 0.7373 - val_accuracy: 0.7445\n",
            "Epoch 5/50\n",
            "1250/1250 [==============================] - 7s 6ms/step - loss: 0.5956 - accuracy: 0.7916 - val_loss: 0.7653 - val_accuracy: 0.7455\n",
            "Epoch 6/50\n",
            "1250/1250 [==============================] - 8s 6ms/step - loss: 0.5087 - accuracy: 0.8220 - val_loss: 0.7413 - val_accuracy: 0.7567\n",
            "Epoch 7/50\n",
            "1250/1250 [==============================] - 8s 6ms/step - loss: 0.4283 - accuracy: 0.8495 - val_loss: 0.7453 - val_accuracy: 0.7612\n",
            "Epoch 8/50\n",
            "1250/1250 [==============================] - 7s 6ms/step - loss: 0.3655 - accuracy: 0.8727 - val_loss: 0.8016 - val_accuracy: 0.7618\n",
            "Epoch 9/50\n",
            "1250/1250 [==============================] - 8s 7ms/step - loss: 0.3109 - accuracy: 0.8909 - val_loss: 0.8478 - val_accuracy: 0.7535\n",
            "Epoch 10/50\n",
            "1250/1250 [==============================] - 7s 6ms/step - loss: 0.2788 - accuracy: 0.9024 - val_loss: 0.8613 - val_accuracy: 0.7633\n",
            "Epoch 11/50\n",
            "1250/1250 [==============================] - 7s 6ms/step - loss: 0.2454 - accuracy: 0.9153 - val_loss: 0.9225 - val_accuracy: 0.7575\n",
            "Epoch 12/50\n",
            "1250/1250 [==============================] - 8s 6ms/step - loss: 0.2245 - accuracy: 0.9222 - val_loss: 1.0720 - val_accuracy: 0.7503\n",
            "Epoch 13/50\n",
            "1250/1250 [==============================] - 9s 7ms/step - loss: 0.2078 - accuracy: 0.9277 - val_loss: 1.0330 - val_accuracy: 0.7602\n",
            "Epoch 14/50\n",
            "1250/1250 [==============================] - 8s 7ms/step - loss: 0.1983 - accuracy: 0.9310 - val_loss: 1.0323 - val_accuracy: 0.7487\n",
            "Epoch 15/50\n",
            "1250/1250 [==============================] - 8s 6ms/step - loss: 0.1888 - accuracy: 0.9342 - val_loss: 1.1015 - val_accuracy: 0.7569\n",
            "Epoch 16/50\n",
            "1250/1250 [==============================] - 8s 6ms/step - loss: 0.1720 - accuracy: 0.9400 - val_loss: 1.1018 - val_accuracy: 0.7610\n",
            "Epoch 17/50\n",
            "1250/1250 [==============================] - 8s 7ms/step - loss: 0.1706 - accuracy: 0.9418 - val_loss: 1.1453 - val_accuracy: 0.7534\n",
            "Epoch 18/50\n",
            "1250/1250 [==============================] - 8s 6ms/step - loss: 0.1677 - accuracy: 0.9424 - val_loss: 1.1574 - val_accuracy: 0.7626\n",
            "Epoch 19/50\n",
            "1250/1250 [==============================] - 7s 6ms/step - loss: 0.1567 - accuracy: 0.9471 - val_loss: 1.2490 - val_accuracy: 0.7592\n",
            "Epoch 20/50\n",
            "1250/1250 [==============================] - 8s 7ms/step - loss: 0.1563 - accuracy: 0.9475 - val_loss: 1.1909 - val_accuracy: 0.7612\n",
            "Epoch 21/50\n",
            "1250/1250 [==============================] - 8s 6ms/step - loss: 0.1461 - accuracy: 0.9502 - val_loss: 1.2493 - val_accuracy: 0.7557\n",
            "Epoch 22/50\n",
            "1250/1250 [==============================] - 7s 6ms/step - loss: 0.1521 - accuracy: 0.9495 - val_loss: 1.1816 - val_accuracy: 0.7600\n",
            "Epoch 23/50\n",
            "1250/1250 [==============================] - 8s 7ms/step - loss: 0.1465 - accuracy: 0.9502 - val_loss: 1.3041 - val_accuracy: 0.7613\n",
            "Epoch 24/50\n",
            "1250/1250 [==============================] - 7s 6ms/step - loss: 0.1374 - accuracy: 0.9538 - val_loss: 1.3896 - val_accuracy: 0.7550\n",
            "Epoch 25/50\n",
            "1250/1250 [==============================] - 8s 6ms/step - loss: 0.1478 - accuracy: 0.9516 - val_loss: 1.2869 - val_accuracy: 0.7548\n",
            "Epoch 26/50\n",
            "1250/1250 [==============================] - 8s 7ms/step - loss: 0.1373 - accuracy: 0.9557 - val_loss: 1.3708 - val_accuracy: 0.7506\n",
            "Epoch 27/50\n",
            "1250/1250 [==============================] - 7s 6ms/step - loss: 0.1336 - accuracy: 0.9558 - val_loss: 1.3789 - val_accuracy: 0.7621\n",
            "Epoch 28/50\n",
            "1250/1250 [==============================] - 8s 7ms/step - loss: 0.1275 - accuracy: 0.9582 - val_loss: 1.3954 - val_accuracy: 0.7589\n",
            "Epoch 29/50\n",
            "1250/1250 [==============================] - 11s 9ms/step - loss: 0.1340 - accuracy: 0.9550 - val_loss: 1.3548 - val_accuracy: 0.7594\n",
            "Epoch 30/50\n",
            "1250/1250 [==============================] - 11s 9ms/step - loss: 0.1369 - accuracy: 0.9560 - val_loss: 1.3786 - val_accuracy: 0.7606\n",
            "Epoch 31/50\n",
            "1250/1250 [==============================] - 7s 6ms/step - loss: 0.1193 - accuracy: 0.9608 - val_loss: 1.4086 - val_accuracy: 0.7645\n",
            "Epoch 32/50\n",
            "1250/1250 [==============================] - 10s 8ms/step - loss: 0.1301 - accuracy: 0.9578 - val_loss: 1.4394 - val_accuracy: 0.7604\n",
            "Epoch 33/50\n",
            "1250/1250 [==============================] - 8s 7ms/step - loss: 0.1264 - accuracy: 0.9585 - val_loss: 1.3499 - val_accuracy: 0.7666\n",
            "Epoch 34/50\n",
            "1250/1250 [==============================] - 8s 6ms/step - loss: 0.1244 - accuracy: 0.9596 - val_loss: 1.3703 - val_accuracy: 0.7485\n",
            "Epoch 35/50\n",
            "1250/1250 [==============================] - 8s 6ms/step - loss: 0.1189 - accuracy: 0.9610 - val_loss: 1.3678 - val_accuracy: 0.7580\n",
            "Epoch 36/50\n",
            "1250/1250 [==============================] - 8s 6ms/step - loss: 0.1270 - accuracy: 0.9595 - val_loss: 1.5382 - val_accuracy: 0.7517\n",
            "Epoch 37/50\n",
            "1250/1250 [==============================] - 7s 6ms/step - loss: 0.1149 - accuracy: 0.9624 - val_loss: 1.4389 - val_accuracy: 0.7625\n",
            "Epoch 38/50\n",
            "1250/1250 [==============================] - 9s 7ms/step - loss: 0.1123 - accuracy: 0.9645 - val_loss: 1.6158 - val_accuracy: 0.7596\n",
            "Epoch 39/50\n",
            "1250/1250 [==============================] - 8s 6ms/step - loss: 0.1284 - accuracy: 0.9598 - val_loss: 1.5106 - val_accuracy: 0.7581\n",
            "Epoch 40/50\n",
            "1250/1250 [==============================] - 8s 6ms/step - loss: 0.1100 - accuracy: 0.9652 - val_loss: 1.5956 - val_accuracy: 0.7618\n",
            "Epoch 41/50\n",
            "1250/1250 [==============================] - 8s 6ms/step - loss: 0.1228 - accuracy: 0.9613 - val_loss: 1.5210 - val_accuracy: 0.7578\n",
            "Epoch 42/50\n",
            "1250/1250 [==============================] - 7s 6ms/step - loss: 0.1119 - accuracy: 0.9646 - val_loss: 1.5974 - val_accuracy: 0.7566\n",
            "Epoch 43/50\n",
            "1250/1250 [==============================] - 9s 7ms/step - loss: 0.1197 - accuracy: 0.9632 - val_loss: 1.4392 - val_accuracy: 0.7633\n",
            "Epoch 44/50\n",
            "1250/1250 [==============================] - 8s 6ms/step - loss: 0.1086 - accuracy: 0.9665 - val_loss: 1.5151 - val_accuracy: 0.7567\n",
            "Epoch 45/50\n",
            "1250/1250 [==============================] - 7s 6ms/step - loss: 0.1093 - accuracy: 0.9656 - val_loss: 1.5396 - val_accuracy: 0.7533\n",
            "Epoch 46/50\n",
            "1250/1250 [==============================] - 8s 6ms/step - loss: 0.1097 - accuracy: 0.9641 - val_loss: 1.5046 - val_accuracy: 0.7632\n",
            "Epoch 47/50\n",
            "1250/1250 [==============================] - 8s 7ms/step - loss: 0.1050 - accuracy: 0.9667 - val_loss: 1.6076 - val_accuracy: 0.7633\n",
            "Epoch 48/50\n",
            "1250/1250 [==============================] - 7s 6ms/step - loss: 0.1109 - accuracy: 0.9660 - val_loss: 1.7698 - val_accuracy: 0.7542\n",
            "Epoch 49/50\n",
            "1250/1250 [==============================] - 8s 7ms/step - loss: 0.1072 - accuracy: 0.9672 - val_loss: 1.9027 - val_accuracy: 0.7472\n",
            "Epoch 50/50\n",
            "1250/1250 [==============================] - 8s 6ms/step - loss: 0.1202 - accuracy: 0.9639 - val_loss: 1.6780 - val_accuracy: 0.7557\n"
          ]
        }
      ]
    },
    {
      "cell_type": "code",
      "source": [
        "plt.figure(figsize=[9, 5])\n",
        "acc_curve_train = np.array(history.history['accuracy'])\n",
        "loss_curve_train = np.array(history.history['loss'])\n",
        "acc_curve_val = np.array(history.history['val_accuracy'])\n",
        "loss_curve_val = np.array(history.history['val_loss'])\n",
        "plot_curve(acc_curve_train, loss_curve_train, acc_curve_val, loss_curve_val)"
      ],
      "metadata": {
        "colab": {
          "base_uri": "https://localhost:8080/",
          "height": 487
        },
        "id": "QRiWjMlnvTXc",
        "outputId": "ed363da5-8b10-455f-9cf0-9ddb2e745666"
      },
      "execution_count": 13,
      "outputs": [
        {
          "output_type": "display_data",
          "data": {
            "text/plain": [
              "<Figure size 900x500 with 2 Axes>"
            ],
            "image/png": "[encoded data removed]"
          },
          "metadata": {}
        }
      ]
    },
    {
      "cell_type": "markdown",
      "source": [
        "### Scores"
      ],
      "metadata": {
        "id": "L0qHnocmxcKD"
      }
    },
    {
      "cell_type": "code",
      "source": [
        "# Loading the best model - saved based on the lowest validation loss\n",
        "model_a = load_model(save_path)"
      ],
      "metadata": {
        "id": "Yxdz5-v_wMDL"
      },
      "execution_count": 14,
      "outputs": []
    },
    {
      "cell_type": "code",
      "source": [
        "# Evaluating the model on the training samples\n",
        "score = model_a.evaluate(x_train, y_train_c)\n",
        "print(f\"Total loss on training set: {score[0]}\")\n",
        "print(f\"Accuracy of training set: {score[1]}\")"
      ],
      "metadata": {
        "colab": {
          "base_uri": "https://localhost:8080/"
        },
        "id": "I8v69jcmxDIY",
        "outputId": "5f550c35-3bbe-456f-aa04-0af3e4cf2ff5"
      },
      "execution_count": 15,
      "outputs": [
        {
          "output_type": "stream",
          "name": "stdout",
          "text": [
            "1250/1250 [==============================] - 4s 3ms/step - loss: 0.5000 - accuracy: 0.8353\n",
            "Total loss on training set: 0.5000460147857666\n",
            "Accuracy of training set: 0.8352749943733215\n"
          ]
        }
      ]
    },
    {
      "cell_type": "code",
      "source": [
        "# Evaluating the model on the validation samples\n",
        "score = model_a.evaluate(x_val, y_val_c)\n",
        "print(f\"Total loss on validation set: {score[0]}\")\n",
        "print(f\"Accuracy of validation set: {score[1]}\")"
      ],
      "metadata": {
        "colab": {
          "base_uri": "https://localhost:8080/"
        },
        "id": "vPW3iN42xLwk",
        "outputId": "fbfc50f3-01c2-4948-b65f-c920ea4c4fd8"
      },
      "execution_count": 16,
      "outputs": [
        {
          "output_type": "stream",
          "name": "stdout",
          "text": [
            "313/313 [==============================] - 1s 3ms/step - loss: 0.7373 - accuracy: 0.7445\n",
            "Total loss on validation set: 0.737325131893158\n",
            "Accuracy of validation set: 0.7444999814033508\n"
          ]
        }
      ]
    },
    {
      "cell_type": "code",
      "source": [
        "# Evaluating the model on the held out samples\n",
        "score = model_a.evaluate(x_test, y_test_c)\n",
        "print(f\"Total loss on testing set: {score[0]}\")\n",
        "print(f\"Accuracy of testing set: {score[1]}\")"
      ],
      "metadata": {
        "colab": {
          "base_uri": "https://localhost:8080/"
        },
        "id": "S8d7IWQVwY95",
        "outputId": "a4274522-61f2-419c-c4dd-bc3e2e07e847"
      },
      "execution_count": 17,
      "outputs": [
        {
          "output_type": "stream",
          "name": "stdout",
          "text": [
            "313/313 [==============================] - 1s 4ms/step - loss: 0.7370 - accuracy: 0.7456\n",
            "Total loss on testing set: 0.7370343208312988\n",
            "Accuracy of testing set: 0.7455999851226807\n"
          ]
        }
      ]
    }
  ]
}