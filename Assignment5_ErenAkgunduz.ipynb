{
  "nbformat": 4,
  "nbformat_minor": 0,
  "metadata": {
    "colab": {
      "provenance": []
    },
    "kernelspec": {
      "name": "python3",
      "display_name": "Python 3"
    },
    "language_info": {
      "name": "python"
    }
  },
  "cells": [
    {
      "cell_type": "markdown",
      "source": [
        "# Assignment 5\n",
        "\n",
        "## Eren Akgunduz\n",
        "\n",
        "### Deep Learning &mdash; 18 February 2024\n",
        "\n",
        "### [Link to notebook](https://colab.research.google.com/drive/1RG9x0C6kfDcCT8ubtGyAds3tDOoSG1LN)\n"
      ],
      "metadata": {
        "id": "DySVb_2MOn9y"
      }
    },
    {
      "cell_type": "code",
      "execution_count": 1,
      "metadata": {
        "id": "q-Z-rxvSNlE_"
      },
      "outputs": [],
      "source": [
        "from keras.datasets import mnist\n",
        "import matplotlib.pyplot as plt\n",
        "import numpy as np"
      ]
    },
    {
      "cell_type": "markdown",
      "source": [
        "## Problem 1"
      ],
      "metadata": {
        "id": "zE1cXnTXlJ_d"
      }
    },
    {
      "cell_type": "code",
      "source": [
        "(x_train, y_train), (x_test, y_test) = mnist.load_data()"
      ],
      "metadata": {
        "colab": {
          "base_uri": "https://localhost:8080/"
        },
        "id": "mlLvfg-dS7Ha",
        "outputId": "c92aebe7-bc49-46f1-8363-ba009c7bd0a9"
      },
      "execution_count": 2,
      "outputs": [
        {
          "output_type": "stream",
          "name": "stdout",
          "text": [
            "Downloading data from https://storage.googleapis.com/tensorflow/tf-keras-datasets/mnist.npz\n",
            "11490434/11490434 [==============================] - 0s 0us/step\n"
          ]
        }
      ]
    },
    {
      "cell_type": "code",
      "source": [
        "# Number of images in each training and testing set\n",
        "print(x_train.shape[0], y_train.shape[0])\n",
        "print(x_test.shape[0], y_test.shape[0])"
      ],
      "metadata": {
        "colab": {
          "base_uri": "https://localhost:8080/"
        },
        "id": "wEHT3w0ITU5c",
        "outputId": "9b33791a-1f3d-4579-be97-926409e4042b"
      },
      "execution_count": 3,
      "outputs": [
        {
          "output_type": "stream",
          "name": "stdout",
          "text": [
            "60000 60000\n",
            "10000 10000\n"
          ]
        }
      ]
    },
    {
      "cell_type": "code",
      "source": [
        "# Image width and height\n",
        "img_ws_hs = {x_train.shape[1], x_train.shape[2], x_test.shape[1], x_test.shape[2]}  # it's the same for all so only one value in set\n",
        "img_pxs = list(img_ws_hs)[0]\n",
        "print(img_ws_hs, img_pxs)\n",
        "print(f\"{img_pxs} x {img_pxs}\")"
      ],
      "metadata": {
        "colab": {
          "base_uri": "https://localhost:8080/"
        },
        "id": "dyhgoshzUQsP",
        "outputId": "318d35da-c855-4c5e-e51d-fade1a139d8a"
      },
      "execution_count": 14,
      "outputs": [
        {
          "output_type": "stream",
          "name": "stdout",
          "text": [
            "{28} 28\n",
            "28 x 28\n"
          ]
        }
      ]
    },
    {
      "cell_type": "code",
      "source": [
        "# From provided code examples\n",
        "def img_plt(images, labels):\n",
        "    \"Plots a figure with 10 subplots for each 0-9 digit\"\n",
        "    plt.figure()  # figsize=(15,8)\n",
        "    for i in range(1,11):\n",
        "        plt.subplot(2,5,i)\n",
        "        plt.imshow(images[i-1,:,:],cmap='gray')\n",
        "        plt.title('Label: ' + str(labels[i-1]))\n",
        "    plt.show()"
      ],
      "metadata": {
        "id": "qSCY3CB7Vj2Z"
      },
      "execution_count": 15,
      "outputs": []
    },
    {
      "cell_type": "code",
      "source": [
        "# Shuffle the training set indices\n",
        "num_train = x_train.shape[0]\n",
        "train_ind = np.arange(0, num_train)\n",
        "train_ind_shuffled = np.random.permutation(train_ind)"
      ],
      "metadata": {
        "id": "fLFd0_LXZzkm"
      },
      "execution_count": 16,
      "outputs": []
    },
    {
      "cell_type": "code",
      "source": [
        "# Just to confirm\n",
        "train_ind[:10]"
      ],
      "metadata": {
        "colab": {
          "base_uri": "https://localhost:8080/"
        },
        "id": "_LqJPXdSbklZ",
        "outputId": "10c18ebe-f686-4dad-dff5-12142ec9a843"
      },
      "execution_count": 18,
      "outputs": [
        {
          "output_type": "execute_result",
          "data": {
            "text/plain": [
              "array([0, 1, 2, 3, 4, 5, 6, 7, 8, 9])"
            ]
          },
          "metadata": {},
          "execution_count": 18
        }
      ]
    },
    {
      "cell_type": "code",
      "source": [
        "train_ind_shuffled[:10]"
      ],
      "metadata": {
        "colab": {
          "base_uri": "https://localhost:8080/"
        },
        "id": "87Q50o-ibpRs",
        "outputId": "47c91619-487c-4f5f-d8b1-1fa3f38180e8"
      },
      "execution_count": 19,
      "outputs": [
        {
          "output_type": "execute_result",
          "data": {
            "text/plain": [
              "array([24551, 33152, 57043, 14668, 24996,  5256,  1884, 39580, 27605,\n",
              "       31618])"
            ]
          },
          "metadata": {},
          "execution_count": 19
        }
      ]
    },
    {
      "cell_type": "code",
      "source": [
        "x_train = x_train[train_ind_shuffled,:,:]\n",
        "y_train = y_train[train_ind_shuffled]\n",
        "\n",
        "# Select 20% of training data as validation set\n",
        "x_valid = x_train[0:int(0.2 * num_train), :, :]\n",
        "y_valid = y_train[0:int(0.2 * num_train)]\n",
        "\n",
        "# The rest of the training set\n",
        "x_train = x_train[int(0.2 * num_train):, :, :]\n",
        "y_train = y_train[int(0.2 * num_train):]"
      ],
      "metadata": {
        "id": "4lrA68TCbzyz"
      },
      "execution_count": 20,
      "outputs": []
    },
    {
      "cell_type": "code",
      "source": [
        "try:\n",
        "    list({x_train.shape[0], y_train.shape[0]})[1]\n",
        "except IndexError:\n",
        "    print(\"Number of images in training set:\", list({x_train.shape[0], y_train.shape[0]})[0])\n",
        "    print(\"Number of images in validation set:\", list({x_valid.shape[0], y_valid.shape[0]})[0])\n",
        "    print(\"Number of images in testing set:\", list({x_test.shape[0], y_test.shape[0]})[0])\n",
        "else:\n",
        "    print(\"Oh no, seems like your data is not split properly ;) try again\")"
      ],
      "metadata": {
        "colab": {
          "base_uri": "https://localhost:8080/"
        },
        "id": "wVRLtatieL_i",
        "outputId": "08422ac2-3f81-42c9-93ab-28a4414a4fdb"
      },
      "execution_count": 29,
      "outputs": [
        {
          "output_type": "stream",
          "name": "stdout",
          "text": [
            "Number of images in training set: 48000\n",
            "Number of images in validation set: 12000\n",
            "Number of images in testing set: 10000\n"
          ]
        }
      ]
    },
    {
      "cell_type": "code",
      "source": [
        "def plot_all(x_set, y_set, set_name):\n",
        "    print(f\"Selecting 10 images from {set_name} set\")\n",
        "    x_rnd = np.zeros((10, x_set.shape[1], x_set.shape[2]))\n",
        "    y_rnd = np.arange(10)\n",
        "    for digit in range(10):\n",
        "        x_d = x_set[y_set == digit,:,:]\n",
        "        x_rnd[digit,:,:] = x_d[0, :, :]  # selecting first digit from the set\n",
        "    img_plt(x_rnd, y_rnd)"
      ],
      "metadata": {
        "id": "1R-9l-vuef35"
      },
      "execution_count": 30,
      "outputs": []
    },
    {
      "cell_type": "code",
      "source": [
        "plot_all(x_train, y_train, \"training\")"
      ],
      "metadata": {
        "colab": {
          "base_uri": "https://localhost:8080/",
          "height": 388
        },
        "id": "WlURI5RskjJt",
        "outputId": "37d3c75d-e36a-4ee9-b7db-d625d8491b25"
      },
      "execution_count": 31,
      "outputs": [
        {
          "output_type": "stream",
          "name": "stdout",
          "text": [
            "Selecting 10 images from training set\n"
          ]
        },
        {
          "output_type": "display_data",
          "data": {
            "text/plain": [
              "<Figure size 640x480 with 10 Axes>"
            ],
            "image/png": "[encoded data removed]"
          },
          "metadata": {}
        }
      ]
    },
    {
      "cell_type": "code",
      "source": [
        "plot_all(x_valid, y_valid, \"validation\")"
      ],
      "metadata": {
        "colab": {
          "base_uri": "https://localhost:8080/",
          "height": 388
        },
        "id": "XeSnPIuOk1QY",
        "outputId": "f967e3a6-59ac-4ab1-c42e-04255166d5a1"
      },
      "execution_count": 32,
      "outputs": [
        {
          "output_type": "stream",
          "name": "stdout",
          "text": [
            "Selecting 10 images from validation set\n"
          ]
        },
        {
          "output_type": "display_data",
          "data": {
            "text/plain": [
              "<Figure size 640x480 with 10 Axes>"
            ],
            "image/png": "[encoded data removed]"
          },
          "metadata": {}
        }
      ]
    },
    {
      "cell_type": "code",
      "source": [
        "plot_all(x_test, y_test, \"testing\")"
      ],
      "metadata": {
        "colab": {
          "base_uri": "https://localhost:8080/",
          "height": 388
        },
        "id": "Bx_01ArZk6bB",
        "outputId": "deb33624-d194-4c6f-f56f-e5e6eb9439a8"
      },
      "execution_count": 33,
      "outputs": [
        {
          "output_type": "stream",
          "name": "stdout",
          "text": [
            "Selecting 10 images from testing set\n"
          ]
        },
        {
          "output_type": "display_data",
          "data": {
            "text/plain": [
              "<Figure size 640x480 with 10 Axes>"
            ],
            "image/png": "[encoded data removed]"
          },
          "metadata": {}
        }
      ]
    },
    {
      "cell_type": "markdown",
      "source": [
        "## Problem 2"
      ],
      "metadata": {
        "id": "HAULntSMlSmv"
      }
    },
    {
      "cell_type": "code",
      "source": [
        "def feat_plt(feature, labels, digits):\n",
        "    plt.figure()\n",
        "    sample_nums = np.arange(feature.shape[0])\n",
        "    plt.plot(sample_nums[labels==digits[0]], feature[labels==digits[0]], 'gs',\n",
        "             sample_nums[labels==digits[1]], feature[labels==digits[1]], 'r^')\n",
        "    plt.legend([f'Digit {digits[0]}', f'Digit {digits[1]}'])\n",
        "    plt.xlabel('Sample #')\n",
        "    plt.ylabel('Average of the 3x3 center grid')\n",
        "    plt.title('Extrated feature from validation data')\n",
        "    plt.show()"
      ],
      "metadata": {
        "id": "vKRTqp0tlyz1"
      },
      "execution_count": 68,
      "outputs": []
    },
    {
      "cell_type": "code",
      "source": [
        "def pred_fun(features, threshold, digits):\n",
        "    y_pred = np.ones(features.shape) * digits[0]\n",
        "    y_pred[features > threshold] = digits[1]\n",
        "    return y_pred"
      ],
      "metadata": {
        "id": "m7_yEZBmlzDF"
      },
      "execution_count": 69,
      "outputs": []
    },
    {
      "cell_type": "code",
      "source": [
        "def acc_fun(labels_actual, labels_pred):\n",
        "    acc = np.sum(labels_actual==labels_pred) / len(labels_actual) * 100\n",
        "    return acc"
      ],
      "metadata": {
        "id": "nHRMRTYMl52X"
      },
      "execution_count": 70,
      "outputs": []
    },
    {
      "cell_type": "code",
      "source": [
        "(x_train, y_train), (x_test, y_test) = mnist.load_data()"
      ],
      "metadata": {
        "id": "09iz9h4qk_Ed"
      },
      "execution_count": 71,
      "outputs": []
    },
    {
      "cell_type": "code",
      "source": [
        "x_train_01 = x_train[np.logical_or(y_train==0, y_train==1), :, :]\n",
        "y_train_01 = y_train[np.logical_or(y_train==0, y_train==1)]\n",
        "x_test_01 = x_test[np.logical_or(y_test==0, y_test==1), :, :]\n",
        "y_test_01 = y_test[np.logical_or(y_test==0, y_test==1)]"
      ],
      "metadata": {
        "id": "4Ejh_ndVlrS9"
      },
      "execution_count": 72,
      "outputs": []
    },
    {
      "cell_type": "code",
      "source": [
        "print(x_train_01.shape, y_train_01.shape)"
      ],
      "metadata": {
        "colab": {
          "base_uri": "https://localhost:8080/"
        },
        "id": "-aCfbz0LneGz",
        "outputId": "c5f84e4d-cfe4-4ec0-ba47-e3093b93a58f"
      },
      "execution_count": 73,
      "outputs": [
        {
          "output_type": "stream",
          "name": "stdout",
          "text": [
            "(12665, 28, 28) (12665,)\n"
          ]
        }
      ]
    },
    {
      "cell_type": "code",
      "source": [
        "print(x_test_01.shape, y_test_01.shape)"
      ],
      "metadata": {
        "colab": {
          "base_uri": "https://localhost:8080/"
        },
        "id": "lDRp-tWpnh9y",
        "outputId": "6f44b7cd-16a9-4574-91d0-6358dbb31478"
      },
      "execution_count": 74,
      "outputs": [
        {
          "output_type": "stream",
          "name": "stdout",
          "text": [
            "(2115, 28, 28) (2115,)\n"
          ]
        }
      ]
    },
    {
      "cell_type": "code",
      "source": [
        "# Shuffle the training set indices\n",
        "num_train_01 = x_train_01.shape[0]\n",
        "train01_ind = np.arange(0, num_train_01)\n",
        "train01_ind_shuffled = np.random.permutation(train01_ind)\n",
        "\n",
        "x_train_01 = x_train_01[train01_ind_shuffled,:,:]\n",
        "y_train_01 = y_train_01[train01_ind_shuffled]\n",
        "\n",
        "# Select 500 images for validation set\n",
        "x_valid_01 = x_train_01[0:500, :, :]\n",
        "y_valid_01 = y_train_01[0:500]\n",
        "\n",
        "# The rest of the training set\n",
        "x_train_01 = x_train_01[500:, :, :]\n",
        "y_train_01 = y_train_01[500:]"
      ],
      "metadata": {
        "id": "y2pG3jgAnkfM"
      },
      "execution_count": 75,
      "outputs": []
    },
    {
      "cell_type": "code",
      "source": [
        "x_train_01.shape"
      ],
      "metadata": {
        "colab": {
          "base_uri": "https://localhost:8080/"
        },
        "id": "y5P83gb0pYCy",
        "outputId": "c99be12d-88c1-4dab-df69-61324f61fc33"
      },
      "execution_count": 76,
      "outputs": [
        {
          "output_type": "execute_result",
          "data": {
            "text/plain": [
              "(12165, 28, 28)"
            ]
          },
          "metadata": {},
          "execution_count": 76
        }
      ]
    },
    {
      "cell_type": "code",
      "source": [
        "features_train = np.sum(x_train_01[:, 13:16, 13:16], axis=2)"
      ],
      "metadata": {
        "id": "QQKlfggNoa5Q"
      },
      "execution_count": 77,
      "outputs": []
    },
    {
      "cell_type": "code",
      "source": [
        "features_train.shape"
      ],
      "metadata": {
        "colab": {
          "base_uri": "https://localhost:8080/"
        },
        "id": "DF0OypGWpRu7",
        "outputId": "8a184d6b-1aa8-40e9-97c6-500599a3de5b"
      },
      "execution_count": 78,
      "outputs": [
        {
          "output_type": "execute_result",
          "data": {
            "text/plain": [
              "(12165, 3)"
            ]
          },
          "metadata": {},
          "execution_count": 78
        }
      ]
    },
    {
      "cell_type": "code",
      "source": [
        "features_train = np.sum(features_train, axis=1) / 9"
      ],
      "metadata": {
        "id": "Ei5O__hypSXi"
      },
      "execution_count": 79,
      "outputs": []
    },
    {
      "cell_type": "code",
      "source": [
        "features_train.shape"
      ],
      "metadata": {
        "colab": {
          "base_uri": "https://localhost:8080/"
        },
        "id": "-G2VlE9zp9jI",
        "outputId": "6ec62544-eef8-43e6-871e-2c6342316460"
      },
      "execution_count": 80,
      "outputs": [
        {
          "output_type": "execute_result",
          "data": {
            "text/plain": [
              "(12165,)"
            ]
          },
          "metadata": {},
          "execution_count": 80
        }
      ]
    },
    {
      "cell_type": "code",
      "source": [
        "features_train"
      ],
      "metadata": {
        "colab": {
          "base_uri": "https://localhost:8080/"
        },
        "id": "yvIj3Vy1p-rc",
        "outputId": "de528fa4-31b4-40a0-8e02-bafa7b27c792"
      },
      "execution_count": 81,
      "outputs": [
        {
          "output_type": "execute_result",
          "data": {
            "text/plain": [
              "array([  0.        , 162.55555556,   0.        , ...,  18.66666667,\n",
              "         0.        , 198.11111111])"
            ]
          },
          "metadata": {},
          "execution_count": 81
        }
      ]
    },
    {
      "cell_type": "code",
      "source": [
        "features_val = np.sum(x_valid_01[:, 13:16, 13:16], axis=2)\n",
        "features_val = np.sum(features_val, axis=1) / 9"
      ],
      "metadata": {
        "id": "uhCfT_8FqAnL"
      },
      "execution_count": 84,
      "outputs": []
    },
    {
      "cell_type": "code",
      "source": [
        "features_test = np.sum(x_test_01[:, 13:16, 13:16], axis=2)\n",
        "features_test = np.sum(features_test, axis=1) / 9"
      ],
      "metadata": {
        "id": "fJt_Imm7tOdW"
      },
      "execution_count": 85,
      "outputs": []
    },
    {
      "cell_type": "code",
      "source": [
        "feat_plt(features_val, y_valid_01, [0, 1])"
      ],
      "metadata": {
        "colab": {
          "base_uri": "https://localhost:8080/",
          "height": 472
        },
        "id": "nNrzwoXEq0QL",
        "outputId": "fb036568-75ec-4251-adcd-01f32077a588"
      },
      "execution_count": 86,
      "outputs": [
        {
          "output_type": "display_data",
          "data": {
            "text/plain": [
              "<Figure size 640x480 with 1 Axes>"
            ],
            "image/png": "[encoded data removed]"
          },
          "metadata": {}
        }
      ]
    },
    {
      "cell_type": "code",
      "source": [
        "# Time to guess a threshold and calculate the accuracies\n",
        "\n",
        "y_train_01_pred = np.zeros(features_train.shape)\n",
        "y_val_01_pred = np.zeros(features_val.shape)\n",
        "y_test_01_pred = np.zeros(features_test.shape)\n",
        "\n",
        "threshold = 100\n",
        "\n",
        "y_train_01_pred[features_train > threshold] = 1\n",
        "y_train_01_pred[features_train <= threshold] = 0\n",
        "\n",
        "y_val_01_pred[features_val > threshold] = 1\n",
        "y_val_01_pred[features_val <= threshold] = 0\n",
        "\n",
        "y_test_01_pred[features_test > threshold] = 1\n",
        "y_test_01_pred[features_test <= threshold] = 0\n",
        "\n",
        "print(\"Training accuracy:\", acc_fun(y_train_01, y_train_01_pred))\n",
        "print(\"Validation accuracy:\", acc_fun(y_valid_01, y_val_01_pred))\n",
        "print(\"Testing accuracy:\", acc_fun(y_test_01, y_test_01_pred))"
      ],
      "metadata": {
        "colab": {
          "base_uri": "https://localhost:8080/"
        },
        "id": "c9X2es8mrLWz",
        "outputId": "5461eb1c-dcdc-4ea7-d25c-aac8ea64a084"
      },
      "execution_count": 88,
      "outputs": [
        {
          "output_type": "stream",
          "name": "stdout",
          "text": [
            "Training accuracy: 98.4052609946568\n",
            "Validation accuracy: 97.8\n",
            "Testing accuracy: 99.10165484633569\n"
          ]
        }
      ]
    },
    {
      "cell_type": "code",
      "source": [],
      "metadata": {
        "id": "rFvN65tAuYug"
      },
      "execution_count": null,
      "outputs": []
    }
  ]
}